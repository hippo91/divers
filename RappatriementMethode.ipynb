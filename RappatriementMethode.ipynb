{
 "metadata": {
  "name": "",
  "signature": "sha256:1c21908f57740f3806e30db2225741e528e4321feabce4b28a649dfd27f55e05"
 },
 "nbformat": 3,
 "nbformat_minor": 0,
 "worksheets": [
  {
   "cells": [
    {
     "cell_type": "code",
     "collapsed": false,
     "input": [
      "class MaClasseA(object):\n",
      "    def __init__(self):\n",
      "        print \"Initialisation de la classe A\"\n",
      "    \n",
      "    def methodeA(self):\n",
      "        print \"M\u00e9thode A de la classe A\"\n",
      "        \n",
      "    def methodeB(self):\n",
      "        print \"M\u00e9thode B de la classe A\"\n",
      "        \n",
      "    def methodeC(self):\n",
      "        print \"M\u00e9thode C de la classe A\""
     ],
     "language": "python",
     "metadata": {},
     "outputs": [],
     "prompt_number": 1
    },
    {
     "cell_type": "code",
     "collapsed": false,
     "input": [
      "class MaClasseB(object):\n",
      "    def __init__(self):\n",
      "        self._toClasseA = MaClasseA()\n",
      "        print \"Initialisation de la classe B\"\n",
      "    \n",
      "    def methodeA(self):\n",
      "        return self._toClasseA.methodeA()\n",
      "    \n",
      "    def methodeB(self):\n",
      "        return self._toClasseA.methodeB()\n",
      "    \n",
      "    def methodeC(self):\n",
      "        print \"M\u00e9thode C de la classe B\""
     ],
     "language": "python",
     "metadata": {},
     "outputs": [],
     "prompt_number": 2
    },
    {
     "cell_type": "code",
     "collapsed": false,
     "input": [
      "objA = MaClasseA()"
     ],
     "language": "python",
     "metadata": {},
     "outputs": [
      {
       "output_type": "stream",
       "stream": "stdout",
       "text": [
        "Initialisation de la classe A\n"
       ]
      }
     ],
     "prompt_number": 3
    },
    {
     "cell_type": "code",
     "collapsed": false,
     "input": [
      "objA.methodeA()\n",
      "objA.methodeB()\n",
      "objA.methodeC()"
     ],
     "language": "python",
     "metadata": {},
     "outputs": [
      {
       "output_type": "stream",
       "stream": "stdout",
       "text": [
        "M\u00e9thode A de la classe A\n",
        "M\u00e9thode B de la classe A\n",
        "M\u00e9thode C de la classe A\n"
       ]
      }
     ],
     "prompt_number": 4
    },
    {
     "cell_type": "code",
     "collapsed": false,
     "input": [
      "objB = MaClasseB()"
     ],
     "language": "python",
     "metadata": {},
     "outputs": [
      {
       "output_type": "stream",
       "stream": "stdout",
       "text": [
        "Initialisation de la classe A\n",
        "Initialisation de la classe B\n"
       ]
      }
     ],
     "prompt_number": 5
    },
    {
     "cell_type": "code",
     "collapsed": false,
     "input": [
      "objB.methodeA()\n",
      "objB.methodeB() "
     ],
     "language": "python",
     "metadata": {},
     "outputs": [
      {
       "output_type": "stream",
       "stream": "stdout",
       "text": [
        "M\u00e9thode A de la classe A\n",
        "M\u00e9thode B de la classe A\n"
       ]
      }
     ],
     "prompt_number": 6
    },
    {
     "cell_type": "code",
     "collapsed": false,
     "input": [
      "objB.__dict__"
     ],
     "language": "python",
     "metadata": {},
     "outputs": [
      {
       "metadata": {},
       "output_type": "pyout",
       "prompt_number": 7,
       "text": [
        "{'_toClasseA': <__main__.MaClasseA at 0x7fbfc007b050>}"
       ]
      }
     ],
     "prompt_number": 7
    },
    {
     "cell_type": "code",
     "collapsed": false,
     "input": [
      "objB.__class__.__dict__"
     ],
     "language": "python",
     "metadata": {},
     "outputs": [
      {
       "metadata": {},
       "output_type": "pyout",
       "prompt_number": 8,
       "text": [
        "<dictproxy {'__dict__': <attribute '__dict__' of 'MaClasseB' objects>,\n",
        " '__doc__': None,\n",
        " '__init__': <function __main__.__init__>,\n",
        " '__module__': '__main__',\n",
        " '__weakref__': <attribute '__weakref__' of 'MaClasseB' objects>,\n",
        " 'methodeA': <function __main__.methodeA>,\n",
        " 'methodeB': <function __main__.methodeB>,\n",
        " 'methodeC': <function __main__.methodeC>}>"
       ]
      }
     ],
     "prompt_number": 8
    },
    {
     "cell_type": "code",
     "collapsed": false,
     "input": [
      "def wrapperfunc(obj_name, method_name):\n",
      "    def func(self):\n",
      "        obj = getattr(self, obj_name)\n",
      "        method = getattr(obj, method_name)\n",
      "        return method()\n",
      "    \n",
      "    return func\n",
      "\n",
      "class MetaClasseC(type):\n",
      "    def __init__(cls, *args, **kwargs):\n",
      "        for obj_name, listofmeth in cls.get_method_of_obj.items():\n",
      "            for meth_name in listofmeth:\n",
      "                setattr(cls, meth_name, wrapperfunc(obj_name, meth_name))"
     ],
     "language": "python",
     "metadata": {},
     "outputs": [],
     "prompt_number": 9
    },
    {
     "cell_type": "code",
     "collapsed": false,
     "input": [
      "class MaClasseC(object):\n",
      "    get_method_of_obj = {'_toClasseA' :['methodeA', 'methodeB'],\n",
      "                         '_toClasseB' :['methodeC']}\n",
      "    __metaclass__ = MetaClasseC\n",
      "    def __init__(self):\n",
      "        self._toClasseA = MaClasseA()\n",
      "        self._toClasseB = MaClasseB()\n",
      "        print \"Initialisation de la classe C\""
     ],
     "language": "python",
     "metadata": {},
     "outputs": [],
     "prompt_number": 10
    },
    {
     "cell_type": "code",
     "collapsed": false,
     "input": [
      "objC = MaClasseC()"
     ],
     "language": "python",
     "metadata": {},
     "outputs": [
      {
       "output_type": "stream",
       "stream": "stdout",
       "text": [
        "Initialisation de la classe A\n",
        "Initialisation de la classe A\n",
        "Initialisation de la classe B\n",
        "Initialisation de la classe C\n"
       ]
      }
     ],
     "prompt_number": 11
    },
    {
     "cell_type": "code",
     "collapsed": false,
     "input": [
      "objC.__dict__"
     ],
     "language": "python",
     "metadata": {},
     "outputs": [
      {
       "metadata": {},
       "output_type": "pyout",
       "prompt_number": 12,
       "text": [
        "{'_toClasseA': <__main__.MaClasseA at 0x7fbfc007bcd0>,\n",
        " '_toClasseB': <__main__.MaClasseB at 0x7fbfc007bc10>}"
       ]
      }
     ],
     "prompt_number": 12
    },
    {
     "cell_type": "code",
     "collapsed": false,
     "input": [
      "objC.__class__.__dict__"
     ],
     "language": "python",
     "metadata": {},
     "outputs": [
      {
       "metadata": {},
       "output_type": "pyout",
       "prompt_number": 13,
       "text": [
        "<dictproxy {'__dict__': <attribute '__dict__' of 'MaClasseC' objects>,\n",
        " '__doc__': None,\n",
        " '__init__': <function __main__.__init__>,\n",
        " '__metaclass__': __main__.MetaClasseC,\n",
        " '__module__': '__main__',\n",
        " '__weakref__': <attribute '__weakref__' of 'MaClasseC' objects>,\n",
        " 'get_method_of_obj': {'_toClasseA': ['methodeA', 'methodeB'],\n",
        "  '_toClasseB': ['methodeC']},\n",
        " 'methodeA': <function __main__.func>,\n",
        " 'methodeB': <function __main__.func>,\n",
        " 'methodeC': <function __main__.func>}>"
       ]
      }
     ],
     "prompt_number": 13
    },
    {
     "cell_type": "code",
     "collapsed": false,
     "input": [
      "objC.methodeA()"
     ],
     "language": "python",
     "metadata": {},
     "outputs": [
      {
       "output_type": "stream",
       "stream": "stdout",
       "text": [
        "M\u00e9thode A de la classe A\n"
       ]
      }
     ],
     "prompt_number": 14
    },
    {
     "cell_type": "code",
     "collapsed": false,
     "input": [
      "objC.methodeB()"
     ],
     "language": "python",
     "metadata": {},
     "outputs": [
      {
       "output_type": "stream",
       "stream": "stdout",
       "text": [
        "M\u00e9thode B de la classe A\n"
       ]
      }
     ],
     "prompt_number": 15
    },
    {
     "cell_type": "code",
     "collapsed": false,
     "input": [
      "objC.methodeC()"
     ],
     "language": "python",
     "metadata": {},
     "outputs": [
      {
       "output_type": "stream",
       "stream": "stdout",
       "text": [
        "M\u00e9thode C de la classe B\n"
       ]
      }
     ],
     "prompt_number": 16
    },
    {
     "cell_type": "code",
     "collapsed": false,
     "input": [],
     "language": "python",
     "metadata": {},
     "outputs": []
    }
   ],
   "metadata": {}
  }
 ]
}